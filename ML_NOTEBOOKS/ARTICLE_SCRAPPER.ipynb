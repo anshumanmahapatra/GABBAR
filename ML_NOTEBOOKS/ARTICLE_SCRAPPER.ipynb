{
  "nbformat": 4,
  "nbformat_minor": 0,
  "metadata": {
    "colab": {
      "name": "ARTICLE_SCRAPPER.ipynb",
      "provenance": [],
      "collapsed_sections": []
    },
    "kernelspec": {
      "name": "python3",
      "display_name": "Python 3"
    }
  },
  "cells": [
    {
      "cell_type": "code",
      "metadata": {
        "colab": {
          "base_uri": "https://localhost:8080/"
        },
        "id": "TRxzsAZuCOhk",
        "outputId": "6a2af746-ea49-4a68-a65b-b0cd7cddec6e"
      },
      "source": [
        "pip install newsapi-python\r\n"
      ],
      "execution_count": 1,
      "outputs": [
        {
          "output_type": "stream",
          "text": [
            "Collecting newsapi-python\n",
            "  Downloading https://files.pythonhosted.org/packages/de/9e/9050199ac7cbc755d1c49577fdaa5517901124b574264b3602a8b8028440/newsapi_python-0.2.6-py2.py3-none-any.whl\n",
            "Requirement already satisfied: requests<3.0.0 in /usr/local/lib/python3.7/dist-packages (from newsapi-python) (2.23.0)\n",
            "Requirement already satisfied: certifi>=2017.4.17 in /usr/local/lib/python3.7/dist-packages (from requests<3.0.0->newsapi-python) (2020.12.5)\n",
            "Requirement already satisfied: chardet<4,>=3.0.2 in /usr/local/lib/python3.7/dist-packages (from requests<3.0.0->newsapi-python) (3.0.4)\n",
            "Requirement already satisfied: idna<3,>=2.5 in /usr/local/lib/python3.7/dist-packages (from requests<3.0.0->newsapi-python) (2.10)\n",
            "Requirement already satisfied: urllib3!=1.25.0,!=1.25.1,<1.26,>=1.21.1 in /usr/local/lib/python3.7/dist-packages (from requests<3.0.0->newsapi-python) (1.24.3)\n",
            "Installing collected packages: newsapi-python\n",
            "Successfully installed newsapi-python-0.2.6\n"
          ],
          "name": "stdout"
        }
      ]
    },
    {
      "cell_type": "code",
      "metadata": {
        "id": "A6hGbd3-CZdh"
      },
      "source": [
        "from newsapi import NewsApiClient\r\n"
      ],
      "execution_count": 2,
      "outputs": []
    },
    {
      "cell_type": "code",
      "metadata": {
        "id": "pxcDjgjSCl_R"
      },
      "source": [
        "newsapi = NewsApiClient(api_key='115d82e6d6a94720adfb66c142dc8119')"
      ],
      "execution_count": 3,
      "outputs": []
    },
    {
      "cell_type": "code",
      "metadata": {
        "colab": {
          "base_uri": "https://localhost:8080/"
        },
        "id": "4uYATQGvCtSY",
        "outputId": "6cff0d6a-002d-43cf-df82-8735f2524635"
      },
      "source": [
        "news_sources = newsapi.get_sources()\r\n",
        "for source in news_sources['sources']:\r\n",
        "    print(source['name'])"
      ],
      "execution_count": 4,
      "outputs": [
        {
          "output_type": "stream",
          "text": [
            "ABC News\n",
            "ABC News (AU)\n",
            "Aftenposten\n",
            "Al Jazeera English\n",
            "ANSA.it\n",
            "Argaam\n",
            "Ars Technica\n",
            "Ary News\n",
            "Associated Press\n",
            "Australian Financial Review\n",
            "Axios\n",
            "BBC News\n",
            "BBC Sport\n",
            "Bild\n",
            "Blasting News (BR)\n",
            "Bleacher Report\n",
            "Bloomberg\n",
            "Breitbart News\n",
            "Business Insider\n",
            "Business Insider (UK)\n",
            "Buzzfeed\n",
            "CBC News\n",
            "CBS News\n",
            "CNN\n",
            "CNN Spanish\n",
            "Crypto Coins News\n",
            "Der Tagesspiegel\n",
            "Die Zeit\n",
            "El Mundo\n",
            "Engadget\n",
            "Entertainment Weekly\n",
            "ESPN\n",
            "ESPN Cric Info\n",
            "Financial Post\n",
            "Focus\n",
            "Football Italia\n",
            "Fortune\n",
            "FourFourTwo\n",
            "Fox News\n",
            "Fox Sports\n",
            "Globo\n",
            "Google News\n",
            "Google News (Argentina)\n",
            "Google News (Australia)\n",
            "Google News (Brasil)\n",
            "Google News (Canada)\n",
            "Google News (France)\n",
            "Google News (India)\n",
            "Google News (Israel)\n",
            "Google News (Italy)\n",
            "Google News (Russia)\n",
            "Google News (Saudi Arabia)\n",
            "Google News (UK)\n",
            "Göteborgs-Posten\n",
            "Gruenderszene\n",
            "Hacker News\n",
            "Handelsblatt\n",
            "IGN\n",
            "Il Sole 24 Ore\n",
            "Independent\n",
            "Infobae\n",
            "InfoMoney\n",
            "La Gaceta\n",
            "La Nacion\n",
            "La Repubblica\n",
            "Le Monde\n",
            "Lenta\n",
            "L'equipe\n",
            "Les Echos\n",
            "Libération\n",
            "Marca\n",
            "Mashable\n",
            "Medical News Today\n",
            "MSNBC\n",
            "MTV News\n",
            "MTV News (UK)\n",
            "National Geographic\n",
            "National Review\n",
            "NBC News\n",
            "News24\n",
            "New Scientist\n",
            "News.com.au\n",
            "Newsweek\n",
            "New York Magazine\n",
            "Next Big Future\n",
            "NFL News\n",
            "NHL News\n",
            "NRK\n",
            "Politico\n",
            "Polygon\n",
            "RBC\n",
            "Recode\n",
            "Reddit /r/all\n",
            "Reuters\n",
            "RT\n",
            "RTE\n",
            "RTL Nieuws\n",
            "SABQ\n",
            "Spiegel Online\n",
            "Svenska Dagbladet\n",
            "T3n\n",
            "TalkSport\n",
            "TechCrunch\n",
            "TechCrunch (CN)\n",
            "TechRadar\n",
            "The American Conservative\n",
            "The Globe And Mail\n",
            "The Hill\n",
            "The Hindu\n",
            "The Huffington Post\n",
            "The Irish Times\n",
            "The Jerusalem Post\n",
            "The Lad Bible\n",
            "The Next Web\n",
            "The Sport Bible\n",
            "The Times of India\n",
            "The Verge\n",
            "The Wall Street Journal\n",
            "The Washington Post\n",
            "The Washington Times\n",
            "Time\n",
            "USA Today\n",
            "Vice News\n",
            "Wired\n",
            "Wired.de\n",
            "Wirtschafts Woche\n",
            "Xinhua Net\n",
            "Ynet\n"
          ],
          "name": "stdout"
        }
      ]
    },
    {
      "cell_type": "code",
      "metadata": {
        "id": "PxJYoRxaCyL1"
      },
      "source": [
        "top_headlines = newsapi.get_top_headlines(\r\n",
        "    q='Bribery',\r\n",
        "    language='en',\r\n",
        ")\r\n",
        "for article in top_headlines['articles']:\r\n",
        "    print('Title : ',article['title'])\r\n",
        "    print('Description : ',article['description'],'\\n\\n')"
      ],
      "execution_count": 5,
      "outputs": []
    },
    {
      "cell_type": "code",
      "metadata": {
        "colab": {
          "base_uri": "https://localhost:8080/"
        },
        "id": "U_mZmlMWDEJf",
        "outputId": "9ac34525-fbf6-4e23-92da-2eabba7427b0"
      },
      "source": [
        "all_articles = newsapi.get_everything(\r\n",
        "    q='Bribery',\r\n",
        "    language='en',   \r\n",
        ")\r\n",
        "for article in all_articles['articles']:\r\n",
        "    print('Source : ',article['source']['name'])\r\n",
        "    print('Title : ',article['title'])\r\n",
        "    print('Description : ',article['description'],'\\n\\n')"
      ],
      "execution_count": 6,
      "outputs": [
        {
          "output_type": "stream",
          "text": [
            "Source :  Engadget\n",
            "Title :  Trump negotiations to join Parler reportedly involved an ownership stake\n",
            "Description :  Parler, the “free speech” focused social network that attracted many right wing and extremist voices, remains offline several days after the company’s board canceled its CEO. The site is staying in the news, however, as a BuzzFeed News report cites documents … \n",
            "\n",
            "\n",
            "Source :  Reuters\n",
            "Title :  Fourth executive jailed in Britain's Iraq oil bribery case - Reuters\n",
            "Description :  A former sales manager of Dutch energy services company SBM Offshore was sentenced on Monday to three-and-a-half years in jail after being convicted by a London jury of bribing public officials to win oil contracts in post-occupation Iraq. \n",
            "\n",
            "\n",
            "Source :  Reuters\n",
            "Title :  DOJ anti-bribery settlements hit new high in 2020 - Reuters\n",
            "Description :  Several large settlements with corporations made last year the most lucrative for federal criminal anti-corruption efforts since the U.S. Justice Department began tracking statistics in 2015, according to a report released on Wednesday. \n",
            "\n",
            "\n",
            "Source :  Reuters\n",
            "Title :  Explainer: What's at stake for Israel's Netanyahu as corruption trial resumes? - Reuters\n",
            "Description :  Prime Minister Benjamin Netanyahu's corruption trial resumes on Monday, when Israel's longest-serving leader will have to enter his plea to charges of bribery, fraud and breach of trust. \n",
            "\n",
            "\n",
            "Source :  NPR\n",
            "Title :  Former French President Sarkozy Found Guilty Of Corruption, Sentenced To Jail\n",
            "Description :  Nicolas Sarkozy, who served as president from 2007 to 2012, was convicted of bribery and influence peddling. He was sentenced to three years in jail, with two of the years suspended. \n",
            "\n",
            "\n",
            "Source :  BBC News\n",
            "Title :  Israel's Netanyahu enters plea in court in corruption trial\n",
            "Description :  The prime minister is fighting the charges while standing for re-election in just a few weeks' time. \n",
            "\n",
            "\n",
            "Source :  BBC News\n",
            "Title :  Dutch suspend foreign adoptions after abuses found\n",
            "Description :  Officials in the Netherlands ignored child trafficking and other abuses, an inquiry finds. \n",
            "\n",
            "\n",
            "Source :  Reuters\n",
            "Title :  Ex-UK prosecutor, fired for alleged swearing at FBI, wins employment case - Reuters\n",
            "Description :  A British former prosecutor fired by the UK Serious Fraud Office (SFO) after allegedly swearing at an FBI officer in a London pub has won a lawsuit for unfair dismissal and breach of contract. \n",
            "\n",
            "\n",
            "Source :  Reuters\n",
            "Title :  FirstEnergy says activist investor Carl Icahn looking to buy stake - Reuters\n",
            "Description :  Activist investor Carl Icahn is looking to buy a stake in FirstEnergy Corp, the energy distributor said in a regulatory filing on Thursday. \n",
            "\n",
            "\n",
            "Source :  Reuters\n",
            "Title :  Former exec at China's Kuaishou arrested for alleged graft - Reuters\n",
            "Description :  A former vice-president of Chinese online short-video sharing firm Kuaishou has been arrested for alleged corruption, the company said on Thursday, as executives from Chinese tech giants come under increasing scrutiny. \n",
            "\n",
            "\n",
            "Source :  Reuters\n",
            "Title :  FirstEnergy says activist investor Carl Icahn looking to buy stake - Reuters\n",
            "Description :  Activist investor Carl Icahn is looking to buy a stake in FirstEnergy Corp, the energy distributor said in a regulatory filing on Thursday. \n",
            "\n",
            "\n",
            "Source :  Reuters\n",
            "Title :  Goldman Sachs head lawyer to leave bank: Bloomberg - Reuters Canada\n",
            "Description :  Goldman Sachs Group Inc's general counsel Karen Seymour is leaving the bank, according to a report from Bloomberg citing people familiar with the matter. \n",
            "\n",
            "\n",
            "Source :  Yahoo Entertainment\n",
            "Title :  Israel's Benjamin Netanyahu pleads not guilty as corruption trial resumes\n",
            "Description :  Israel’s prime minister appeared in court on Monday to formally deny charges of fraud and bribery as his corruption trial resumed in Jerusalem. Benjamin... \n",
            "\n",
            "\n",
            "Source :  Boing Boing\n",
            "Title :  Hawaiian tourists arrested for bribing officials to bypass quarantine rule\n",
            "Description :  Johntrell White (29) and Nadia Bailey (28), both from Louisiana, allegedly arrived at Honolulu airport without required COVID-19 pre-tests in hand. When an airport screener told them they would have to quarantine for 10 days, White allegedly offered the scree… \n",
            "\n",
            "\n",
            "Source :  Reuters\n",
            "Title :  Former TPG Capital exec admits paying $50,000 to rig son's college entrance exam - Reuters UK\n",
            "Description :  A former senior executive at private equity firm TPG Capital pleaded guilty on Wednesday to participating in a vast U.S. college admissions fraud scheme by paying $50,000 to rig his son's college entrance exam results. \n",
            "\n",
            "\n",
            "Source :  Reuters\n",
            "Title :  Corporate lawyer in U.S. college admissions scandals gets two-year law license suspension - Reuters\n",
            "Description :  The former co-chairman of a major New York law firm has been suspended from practicing law for two years after pleading guilty and spending time in prison over his role in the U.S. college admissions scandal. \n",
            "\n",
            "\n",
            "Source :  Business Insider\n",
            "Title :  Parler offered Trump's company 40% ownership of the app to make it his go-to social media platform\n",
            "Description :  Summary List PlacementParler and the Trump Organization, negotiating on behalf of then-President Donald Trump, held talks that would have given Trump's company a major stake in Parler in exchange for the president making it his go-to social media platform, Bu… \n",
            "\n",
            "\n",
            "Source :  Boing Boing\n",
            "Title :  Parler wanted Donald Trump, who demanded an ownership stake, which didn't happen\n",
            "Description :  A scoop from Buzzfeed News: \"Parler wanted Donald Trump on its site. Trump's company wanted an ownership stake. Here's the exclusive story of their negotiation.\"\n",
            "\n",
            "\n",
            "\n",
            "Parler is the chat app founded in 2018 by former college roommates John Matze and Jared Thomso… \n",
            "\n",
            "\n",
            "Source :  New York Times\n",
            "Title :  He Was the Hero of ‘Hotel Rwanda.’ Now He’s Accused of Terrorism.\n",
            "Description :  Long hailed for his bravery during the 1994 Rwandan genocide, Paul Rusesabagina is now charged with being an insurgent leader. Did Rwanda change, or did he? \n",
            "\n",
            "\n",
            "Source :  New York Times\n",
            "Title :  The Good Samaritan on Trial for Terrorism\n",
            "Description :  Long hailed for his bravery during the 1994 Rwandan genocide, Paul Rusesabagina is now charged with being an insurgent leader. Did Rwanda change, or did he? \n",
            "\n",
            "\n"
          ],
          "name": "stdout"
        }
      ]
    },
    {
      "cell_type": "code",
      "metadata": {
        "id": "lxM2XpoeDRyy"
      },
      "source": [
        ""
      ],
      "execution_count": null,
      "outputs": []
    }
  ]
}